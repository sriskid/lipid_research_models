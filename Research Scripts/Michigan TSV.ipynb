{
 "cells": [
  {
   "cell_type": "code",
   "execution_count": 4,
   "id": "e0cf382c",
   "metadata": {},
   "outputs": [],
   "source": [
    "import pandas as pd\n",
    "import os\n",
    "import re"
   ]
  },
  {
   "cell_type": "code",
   "execution_count": null,
   "id": "4d48976b",
   "metadata": {},
   "outputs": [],
   "source": [
    "with open(\" /projects/mohimanilab2/sequence_data/streptomyces/Ashu_100_strain.csv.with_genome\", \"r\") as f:\n",
    "    text = f.readlines()\n",
    "genomes_pair_dict = {}\n",
    "for line in text:\n",
    "    line = line.split(\",\")\n",
    "    genomes_pair_dict[line[0]] = line[2]\n",
    "PATH = \"/projects/mohimanilab2/spectra/NRRL_michigan/Positive_Mode/\"\n",
    "directories = os.listdir(PATH)"
   ]
  },
  {
   "cell_type": "code",
   "execution_count": null,
   "id": "93614dc3",
   "metadata": {},
   "outputs": [],
   "source": [
    "genome_ms_dict = {}\n",
    "for genome in genomes_pair_dict.keys():\n",
    "    genome_ms = []\n",
    "    for Pfile in directories:\n",
    "        for ms_file in os.listdir(PATH+Pfile):\n",
    "            if re.search(genome, ms_file) is True:\n",
    "                genome_ms.append(PATH+Pfile+\"/\"ms_file)\n",
    "    genome_ms_dict[genome] = genome_ms"
   ]
  },
  {
   "cell_type": "code",
   "execution_count": null,
   "id": "b57994b4",
   "metadata": {},
   "outputs": [],
   "source": [
    "fasta_files = os.listdir(\"/projects/mohimanilab2/sequence_data/streptomyces/Ashu_100_strain/\")\n",
    "for genome, fasta in genomes_pair_dict.items():\n",
    "    for fna in fasta_files:\n",
    "        if re.search(fasta, fna) is not None:\n",
    "            genomes_pair_dict[genome] = \"/projects/mohimanilab2/sequence_data/streptomyces/Ashu_100_strain/\"+fasta\n",
    "        new_name = fasta.replace(\".fasta\", \".fna\")\n",
    "        os.rename(\"/projects/mohimanilab2/sequence_data/streptomyces/Ashu_100_strain/\"+fasta, \"/projects/mohimanilab2/sequence_data/streptomyces/Ashu_100_strain/\"+new_name)"
   ]
  },
  {
   "cell_type": "code",
   "execution_count": null,
   "id": "4b05af54",
   "metadata": {},
   "outputs": [],
   "source": [
    "df = pd.DataFrame(columns = [\"Mass Spec File\", \"Genome Fasta File\"])\n",
    "for genome, ms in genomes_pair_dict.items():\n",
    "    for mass in ms:\n",
    "        df.loc[len(df)] = [mass, genomes_pair_dict[genome]]\n",
    "df.to_csv('correspondence_file.tsv', sep=\"\\t\", index = False)"
   ]
  }
 ],
 "metadata": {
  "kernelspec": {
   "display_name": "Python 3 (ipykernel)",
   "language": "python",
   "name": "python3"
  },
  "language_info": {
   "codemirror_mode": {
    "name": "ipython",
    "version": 3
   },
   "file_extension": ".py",
   "mimetype": "text/x-python",
   "name": "python",
   "nbconvert_exporter": "python",
   "pygments_lexer": "ipython3",
   "version": "3.9.6"
  }
 },
 "nbformat": 4,
 "nbformat_minor": 5
}
