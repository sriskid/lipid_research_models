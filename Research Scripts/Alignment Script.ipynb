{
 "cells": [
  {
   "cell_type": "code",
   "execution_count": 3,
   "id": "933f3666",
   "metadata": {},
   "outputs": [],
   "source": [
    "from Bio import pairwise2\n",
    "from Bio.Seq import Seq \n",
    "from Bio import SeqIO\n",
    "import sys"
   ]
  },
  {
   "cell_type": "code",
   "execution_count": 4,
   "id": "02a103d8",
   "metadata": {},
   "outputs": [],
   "source": [
    "def alignment(read1, read2):\n",
    "    alignments = pairwise2.align.globalxx(read1, read2)\n",
    "    alignments_record = []\n",
    "    for alignment in alignments:\n",
    "        alignments_record.append([alignment.seqA, alignment.seqB])\n",
    "    \n",
    "    return alignments_record"
   ]
  },
  {
   "cell_type": "code",
   "execution_count": 5,
   "id": "a7b87b1a",
   "metadata": {},
   "outputs": [],
   "source": [
    "def get_reads_from_file(fasta1, fasta2):\n",
    "    read1 = \"\"\n",
    "    read2 = \"\"\n",
    "    for seq_record in SeqIO.parse(fasta1, \"fasta\"):\n",
    "        read1 = seq_record.seq\n",
    "    for seq_record in SeqIO.parse(fasta2, \"fasta\"):\n",
    "        read2 = seq_record.seq\n",
    "    \n",
    "    return read1, read2"
   ]
  },
  {
   "cell_type": "code",
   "execution_count": 6,
   "id": "91c33b79",
   "metadata": {},
   "outputs": [],
   "source": [
    "def remove_gaps(alignment_section):\n",
    "    first_seq = [letter for letter in alignment_section[0]]\n",
    "    second_seq = [letter for letter in alignment_section[1]]\n",
    "    new_sequence_first = []\n",
    "    new_sequence_second = []\n",
    "    for i, l in enumerate(first_seq):\n",
    "        if l != \"-\":\n",
    "            new_sequence_first.append(first_seq[i])\n",
    "            new_sequence_second.append(second_seq[i])\n",
    "    first_seq = (\"\").join(new_sequence_first)\n",
    "    second_seq = (\"\").join(new_sequence_second)\n",
    "    \n",
    "    return [first_seq, second_seq]       "
   ]
  },
  {
   "cell_type": "code",
   "execution_count": 16,
   "id": "4b2b42ef",
   "metadata": {},
   "outputs": [],
   "source": [
    "def find_position(alignment_positions, start_position, end_position = None):\n",
    "    if end_position is None:\n",
    "        end_position = len(alignment_positions[0][0])\n",
    "    sectioned_alignment = []\n",
    "    for alignment in alignment_positions:\n",
    "#         print(\"Alignment:\", alignment)\n",
    "        new_alignments = [alignment[0][start_position:end_position], alignment[1][start_position:end_position]]\n",
    "        sectioned_alignment.append(remove_gaps(new_alignments))\n",
    "        \n",
    "    return sectioned_alignment"
   ]
  },
  {
   "cell_type": "code",
   "execution_count": 1,
   "id": "23661a9e",
   "metadata": {},
   "outputs": [],
   "source": [
    "def get_alignment(reference_fasta, comparison_fasta, start_position, end_position):\n",
    "    start_position = start_position\n",
    "    end_position = end_position\n",
    "    read1, read2 = get_reads_from_file(reference_fasta, comparison_fasta)\n",
    "    alignment_record = alignment(read1, read2)\n",
    "    return alignment_record\n",
    "    print(find_position(alignment_record, start_position, end_position))"
   ]
  },
  {
   "cell_type": "code",
   "execution_count": 22,
   "id": "8e3c8903",
   "metadata": {},
   "outputs": [
    {
     "name": "stdout",
     "output_type": "stream",
     "text": [
      "[['IKD', 'I--'], ['IKD', 'I--'], ['IKD', 'I--'], ['QIKD', 'TI--'], ['QIKD', 'EI--'], ['QIKD', 'AI--'], ['QIKD', 'GI--'], ['QIKD', 'EI--'], ['QIKD', 'GI--'], ['IKD', 'I-T'], ['IKD', 'I-T'], ['IKD', 'I-T'], ['QIKD', 'TI-T'], ['QIKD', 'EI-T'], ['QIKD', 'AI-T'], ['QIKD', 'GI-T'], ['QIKD', 'EI-T'], ['QIKD', 'GI-T'], ['IKD', 'IT-'], ['IKD', 'IT-'], ['IKD', 'IT-'], ['QIKD', 'TIT-'], ['QIKD', 'EIT-'], ['QIKD', 'AIT-'], ['QIKD', 'GIT-'], ['QIKD', 'EIT-'], ['QIKD', 'GIT-']]\n"
     ]
    }
   ],
   "source": [
    "main()"
   ]
  },
  {
   "cell_type": "code",
   "execution_count": null,
   "id": "2b3cacc2",
   "metadata": {},
   "outputs": [],
   "source": []
  }
 ],
 "metadata": {
  "kernelspec": {
   "display_name": "Python 3 (ipykernel)",
   "language": "python",
   "name": "python3"
  },
  "language_info": {
   "codemirror_mode": {
    "name": "ipython",
    "version": 3
   },
   "file_extension": ".py",
   "mimetype": "text/x-python",
   "name": "python",
   "nbconvert_exporter": "python",
   "pygments_lexer": "ipython3",
   "version": "3.9.6"
  }
 },
 "nbformat": 4,
 "nbformat_minor": 5
}
