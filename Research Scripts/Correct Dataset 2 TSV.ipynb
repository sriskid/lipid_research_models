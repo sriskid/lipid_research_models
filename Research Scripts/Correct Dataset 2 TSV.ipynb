{
 "cells": [
  {
   "cell_type": "code",
   "execution_count": 1,
   "id": "dd92d7d8",
   "metadata": {},
   "outputs": [],
   "source": [
    "import pandas as pd\n",
    "import os\n",
    "import re"
   ]
  },
  {
   "cell_type": "code",
   "execution_count": null,
   "id": "904da798",
   "metadata": {},
   "outputs": [],
   "source": [
    "with open(\"/projects/mohimanilab2/sequence_data/streptomyces/NRRL_phase_2.txt.index_with_genome\", \"r\") as f:\n",
    "    text = f.readlines()\n",
    "genome_pair_dict = {}\n",
    "for line in text:\n",
    "    line = line.split(\",\")\n",
    "    genome_pair_dict[line[0]] = line[1].strip()"
   ]
  },
  {
   "cell_type": "code",
   "execution_count": null,
   "id": "402ace7f",
   "metadata": {},
   "outputs": [],
   "source": [
    "with open(\"/projects/mohimanilab2/sequence_data/streptomyces/Kirk_streptomyces.csv\", \"r\") as g:\n",
    "    extra = g.readlines()"
   ]
  },
  {
   "cell_type": "code",
   "execution_count": null,
   "id": "a0eebb03",
   "metadata": {},
   "outputs": [],
   "source": [
    "with open(\"runfiles\", \"r\") as t:\n",
    "    runfiles = t.readlines()"
   ]
  },
  {
   "cell_type": "code",
   "execution_count": 3,
   "id": "64bc271b",
   "metadata": {},
   "outputs": [],
   "source": [
    "SPECTRA_PATH = \"/projects/mohimanilab2/spectra/MSV000089813/\"\n",
    "metadata_df = pd.read_csv(\"/projects/mohimanilab/paired_omics_results/metaminer/correspondence_3.0/MSV000089813_gnps_metadata_NRRL_disclosed.tsv\", sep = \"\\t\")\n",
    "PLT_files = os.listdir(SPECTRA_PATH)[1:]"
   ]
  },
  {
   "cell_type": "code",
   "execution_count": 1,
   "id": "8b44f1b5",
   "metadata": {},
   "outputs": [],
   "source": [
    "def find_genome(mzML, df, g_pair_dict):\n",
    "    if mzML in df[\"filename\"].values:\n",
    "        genome = df[df[\"filename\"] == f\"{mzML}\"][\"SubjectIdentifierAsRecorded\"].values[0]\n",
    "        if re.search(r\"[A-Z]-\\d*\", genome):\n",
    "            for line in runfiles:\n",
    "                line = line.strip()\n",
    "                if re.search(g_pair_dict[genome], line) is not None:\n",
    "                    return line\n",
    "                else:\n",
    "                    for line in extra:\n",
    "                        line = line.strip()\n",
    "                        line = line.split(\",\")\n",
    "                        genome = line[2]\n",
    "                        \n",
    "            \n"
   ]
  },
  {
   "cell_type": "code",
   "execution_count": null,
   "id": "a1ecce62",
   "metadata": {},
   "outputs": [],
   "source": [
    "df = pd.DataFrame(columns = [\"Mass Spec File\", \"Genome Fasta File\"])\n",
    "for PLT in PLT_files:\n",
    "    mzMLs = os.listdir(SPECTRA_PATH+PLT)\n",
    "    for mzML in mzMLs:\n",
    "        genome = find_genome(mzML, metadata_df, genome_pair_dict)\n",
    "        if genome is not None:\n",
    "            mzML_path = SPECTRA_PATH+PLT+f\"/{mzML}\"\n",
    "            df.loc[len[df]] = [mzML_path, genome]\n",
    "\n",
    "df.to_csv(\"correspondence_file.tsv\", sep = \"\\t\", index = False, header = False)\n",
    "            \n",
    "            \n",
    "            "
   ]
  },
  {
   "cell_type": "code",
   "execution_count": null,
   "id": "b3040c86",
   "metadata": {},
   "outputs": [],
   "source": [
    "\n",
    "    "
   ]
  }
 ],
 "metadata": {
  "kernelspec": {
   "display_name": "Python 3 (ipykernel)",
   "language": "python",
   "name": "python3"
  },
  "language_info": {
   "codemirror_mode": {
    "name": "ipython",
    "version": 3
   },
   "file_extension": ".py",
   "mimetype": "text/x-python",
   "name": "python",
   "nbconvert_exporter": "python",
   "pygments_lexer": "ipython3",
   "version": "3.9.6"
  }
 },
 "nbformat": 4,
 "nbformat_minor": 5
}
