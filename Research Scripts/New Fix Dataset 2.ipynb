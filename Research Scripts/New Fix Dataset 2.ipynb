{
 "cells": [
  {
   "cell_type": "code",
   "execution_count": 1,
   "id": "d24c5c55",
   "metadata": {},
   "outputs": [],
   "source": [
    "import pandas as pd\n",
    "import os\n",
    "import re"
   ]
  },
  {
   "cell_type": "code",
   "execution_count": null,
   "id": "78b65387",
   "metadata": {},
   "outputs": [],
   "source": [
    "GENOMES_TO_FASTA_PATH = \"/projects/mohimanilab2/sequence_data/streptomyces/all_analyzed_genomes\"\n",
    "GENOMES_TO_FASTA_PATH2 = \"/projects/mohimanilab2/sequence_data/streptomyces/actinobacteria_genomes/\"\n",
    "GENOMES_TO_FASTA_PATH3 = \"/projects/mohimanilab2/sequence_data/streptomyces/genomes/\"\n",
    "SPECTRA_PATH = \"/projects/mohimanilab2/spectra/MSV000089813/\"\n",
    "all_fastas = os.listdir(GENOMES_TO_FASTA_PATH)\n",
    "only_fasta = [fasta for fasta in all_fastas if re.search(r\"\\.blast\", fasta) is None]\n",
    "genomic_fasta = [fasta for fasta in only_fasta if re.search(r\"_genomic\",fasta) is not None]\n",
    "all_fastas2 = os.listdir(GENOMES_TO_FASTA_PATH2)\n",
    "only_fasta2 = [fasta for fasta in all_fastas2 if re.search(r\"\\.blast\", fasta) is None]\n",
    "genomic_fasta2 = [fasta for fasta in only_fasta2 if re.search(r\"_genomic\",fasta) is not None]\n",
    "all_fastas3 = os.listdir(GENOMES_TO_FASTA_PATH3)\n",
    "only_fasta3 = [fasta for fasta in all_fastas3 if re.search(r\"\\.blast\", fasta) is None]\n",
    "genomic_fasta3 = [fasta for fasta in only_fasta3 if re.search(r\"_genomic\",fasta) is not None]"
   ]
  },
  {
   "cell_type": "code",
   "execution_count": null,
   "id": "1fc0d17b",
   "metadata": {},
   "outputs": [],
   "source": [
    "df = pd.read_csv(\"/projects/mohimanilab/paired_omics_results/metaminer/correspondence_3.0/MSV000089813_gnps_metadata_NRRL_disclosed.tsv\", sep = \"\\t\")\n",
    "with open(\"/projects/mohimanilab2/sequence_data/streptomyces/Kirk_streptomyces.csv\", \"r\") as t:\n",
    "    kirk = t.readlines()\n",
    "kirk_dict = {}\n",
    "for line in kirk:\n",
    "    line = line.strip()\n",
    "    line = line.split(\",\")\n",
    "    kirk_dict[line[0]] = line[2]\n",
    "index_genome_dict = {}\n",
    "with open(\"/projects/mohimanilab2/sequence_data/streptomyces/NRRL_phase_2.txt.index_with_genome\", \"r\") as f:\n",
    "    index_genome = f.readlines()\n",
    "    line = line.strip()\n",
    "    line = line.split(\",\")\n",
    "    index_genome_dict[line[0]] = line[1]"
   ]
  },
  {
   "cell_type": "code",
   "execution_count": null,
   "id": "a0e66a09",
   "metadata": {},
   "outputs": [],
   "source": [
    "mzML_files = metadata_df[\"filename\"].values\n",
    "PLT_files = []\n",
    "genome_ids = []\n",
    "for mzML_file in mzML_files:\n",
    "    if re.search(r\"PLT\\d\", mzML_file) is not None:\n",
    "        PLT_files.append(mzML_file)\n",
    "        ID = df[df[\"filename\"] == f\"{mzML_file}\"][\"SubjectIdentifierAsRecorded\"].values[0]\n",
    "        genome_ids.append(ID)"
   ]
  },
  {
   "cell_type": "code",
   "execution_count": null,
   "id": "b7928238",
   "metadata": {},
   "outputs": [],
   "source": [
    "def hard_encode(ID):\n",
    "    if ID == \"B-1477\":\n",
    "        return \"/projects/mohimanilab2/sequence_data/streptomyces/genomes/GCA_000721535.1_ASM72153v1_genomic.fna\"\n",
    "    elif ID == \"B-2400\":\n",
    "        return \"/projects/mohimanilab2/sequence_data/streptomyces/genomes/GCA_014650275.1_ASM1465027v1_genomic.fna\"\n",
    "    elif ID == \"NRRL 11379\":\n",
    "        return \"/projects/mohimanilab2/sequence_data/streptomyces/genomes/GCA_000156695.2_ASM15669v2_genomic.fna\"\n",
    "    elif ID == \"NRRL 2958\":\n",
    "        return \"/projects/mohimanilab2/sequence_data/streptomyces/genomes/GCA_000154945.1_ASM15494v1_genomic.fna\"\n",
    "    elif ID == \"B-11053\":\n",
    "        return \"/data/mohimani_db/metabologenomics/sequence_data/streptomyces/missing_sriram/GCA_003052545.1_ASM305254v1_genomic.fna\"\n",
    "    elif ID == \"NRRL 8044\":\n",
    "        return \"/data/mohimani_db/metabologenomics/sequence_data/streptomyces/missing_sriram/GCA_003945665.1_ASM394566v1_genomic.fna\"\n",
    "    elif ID == \"B-50531\":\n",
    "        return \"/data/mohimani_db/metabologenomics/sequence_data/streptomyces/missing_sriram/GCA_000264455.2_ASM26445v2_rna_from_genomic.fna\"\n",
    "    "
   ]
  },
  {
   "cell_type": "code",
   "execution_count": null,
   "id": "b7d50738",
   "metadata": {},
   "outputs": [],
   "source": [
    "def look_index_genome(ID, index_genome):\n",
    "        if ID in index_genome_dict.keys():\n",
    "            genome = index_genome_dict[ID]\n",
    "            for fasta in genomic_fasta:\n",
    "                if re.search(genome, fasta) is not None:\n",
    "                    fasta_path = GENOMES_TO_FASTA_PATH + f\"/{fasta}\" \n",
    "                    return fasta_path\n",
    "            for fasta in genomic_fasta2:\n",
    "                if re.search(genome, fasta) is not None:\n",
    "                    fasta_path = GENOMES_TO_FASTA_PATH2 + f\"/{fasta}\" \n",
    "                    return fasta_path\n",
    "            for fasta in genomic_fasta3:\n",
    "                if re.search(genome, fasta) is not None:\n",
    "                    fasta_path = GENOMES_TO_FASTA_PATH3 + f\"/{fasta}\" \n",
    "                    return fasta_path\n",
    "        else:\n",
    "            \n",
    "            \n",
    "            return genome\n",
    "    return None"
   ]
  },
  {
   "cell_type": "code",
   "execution_count": null,
   "id": "7b6768bb",
   "metadata": {},
   "outputs": [],
   "source": [
    "def look_kirk(ID, kirk_dict):\n",
    "    if ID in kirk_dict.keys():\n",
    "        genome = kirk_dict[ID]\n",
    "        for fasta in genomic_fasta:\n",
    "                if re.search(genome, fasta) is not None:\n",
    "                    fasta_path = GENOMES_TO_FASTA_PATH + f\"/{fasta}\" \n",
    "                    return fasta_path\n",
    "        for fasta in genomic_fasta2:\n",
    "                if re.search(genome, fasta) is not None:\n",
    "                    fasta_path = GENOMES_TO_FASTA_PATH2 + f\"/{fasta}\" \n",
    "                    return fasta_path\n",
    "            for fasta in genomic_fasta3:\n",
    "                if re.search(genome, fasta) is not None:\n",
    "                    fasta_path = GENOMES_TO_FASTA_PATH3 + f\"/{fasta}\" \n",
    "                    return fasta_path\n",
    "    return None\n"
   ]
  },
  {
   "cell_type": "code",
   "execution_count": null,
   "id": "b0542303",
   "metadata": {},
   "outputs": [],
   "source": [
    "def look_fasta_path(ID, index_genome, kirk_dict):\n",
    "    if look_index_genome(ID, index_genome) is not None:\n",
    "        return look_index_genome\n",
    "    else:\n",
    "        return look_kirk(ID, kirk_dict)"
   ]
  },
  {
   "cell_type": "code",
   "execution_count": null,
   "id": "edf4df9c",
   "metadata": {},
   "outputs": [],
   "source": [
    "def find_spectra_paths(mzML_files):\n",
    "    full_path_mzML = []\n",
    "    mzMLs = os.listdir(SPECTRA_PATH)[1:-1]\n",
    "    for mzML_file in mzML_files:\n",
    "        for mzML in mzMLs:\n",
    "            path = SPECTRA_PATH+mzML\n",
    "            for spec in os.listdir(path):\n",
    "                if re.search(mzML_file, spec) is not None:\n",
    "                    full_path_mzML.append(spec)\n",
    "    \n",
    "    return full_path_mzML"
   ]
  },
  {
   "cell_type": "code",
   "execution_count": null,
   "id": "5142abbb",
   "metadata": {},
   "outputs": [],
   "source": [
    "def hard_encode_mzML(mzML):\n",
    "    if mzML == \"PLT3_ISP2_E7.mzML\" or mzML == \"PLT3_NSG_E7.mzML\" or mzML == \"PLT3_CZP_E7.mzML\" or mzML == \"PLT3_TSA_E7.mzML\" or mzML == \"PLT3_ISP4_E7.mzML\"\n",
    "        return "
   ]
  },
  {
   "cell_type": "code",
   "execution_count": null,
   "id": "4d85027a",
   "metadata": {},
   "outputs": [],
   "source": [
    "new_tsv = pd.DataFrame(columns = [\"Mass Spec File\", \"Genome Fasta Files\"])\n",
    "spectra_paths = find_spectra_paths(PLT_files)\n",
    "fasta_paths = []\n",
    "for i in range(len(PLT_files)):\n",
    "    fasta_path = look_fasta_path(genome_ids[i], index_genome, kirk_dict)\n",
    "    if PLT_files[i] == \"PLT3_ISP2_E7.mzML\" or PLT_files[i] == \"PLT3_NSG_E7.mzML\" or PLT_files[i] == \"PLT3_CZP_E7.mzML\" or PLT_files[i] == \"PLT3_TSA_E7.mzML\" or PLT_files[i] == \"PLT3_ISP4_E7.mzML\":\n",
    "        fasta_path = \"/projects/mohimanilab2/sequence_data/streptomyces/genomes/GCA_001885705.1_ASM188570v1_genomic.fna\"\n",
    "    new_tsv.loc[len[new_tsv]] = [spectra_paths[i], fasta_path]\n",
    "    fasta_paths.append(fasta_path)\n",
    "new_tsv.to_csv(\"new_correspondence_file.tsv\", sep = \"\\t\", header = False, index = False)"
   ]
  },
  {
   "cell_type": "code",
   "execution_count": null,
   "id": "131d2e43",
   "metadata": {},
   "outputs": [],
   "source": [
    "with open(\"runfiles\", \"w\") as f:\n",
    "    for fasta_path in fasta_paths:\n",
    "        f.write(f\"{fasta_path}\\n\")"
   ]
  }
 ],
 "metadata": {
  "kernelspec": {
   "display_name": "Python 3 (ipykernel)",
   "language": "python",
   "name": "python3"
  },
  "language_info": {
   "codemirror_mode": {
    "name": "ipython",
    "version": 3
   },
   "file_extension": ".py",
   "mimetype": "text/x-python",
   "name": "python",
   "nbconvert_exporter": "python",
   "pygments_lexer": "ipython3",
   "version": "3.9.6"
  }
 },
 "nbformat": 4,
 "nbformat_minor": 5
}
