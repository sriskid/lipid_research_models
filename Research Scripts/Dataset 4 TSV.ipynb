{
 "cells": [
  {
   "cell_type": "code",
   "execution_count": 1,
   "id": "6c728a5c",
   "metadata": {},
   "outputs": [],
   "source": [
    "import pandas as pd\n",
    "import os"
   ]
  },
  {
   "cell_type": "code",
   "execution_count": null,
   "id": "83e1da30",
   "metadata": {},
   "outputs": [],
   "source": [
    "df = pd.read_csv(\"MSV000089524.orig\", sep = \"\\t\")\n",
    "genome_pair_dict = {}\n",
    "with open(\"runfiles\", \"r\") as f:\n",
    "    text = f.readlines()\n",
    "for line in text:\n",
    "    line = line.strip()\n",
    "    genome = os.path.basename(line)\n",
    "    genome = genome.split(\".\")[0]\n",
    "    genome_pair_dict[genome] = line"
   ]
  },
  {
   "cell_type": "code",
   "execution_count": null,
   "id": "a0768842",
   "metadata": {},
   "outputs": [],
   "source": [
    "new_df = pd.DataFrame(columns = [\"Mass Spec File\", \"Genome Fasta File\"])\n",
    "for mzML in df[\"Filename\"].values:\n",
    "    genome = df[df[\"Filename\"] == mzML][\"Taxaname_file\"].values[0]\n",
    "    genome = genome.split()[2]\n",
    "    mzML_path = \"/projects/mohimanilab2/spectra/MSV000089524/\"+mzML\n",
    "    new_df.loc[len(new_df)] = [mzML_path, genome_pair_dict[genome]]\n",
    "\n",
    "new_df.to_csv(\"correspondence_file.tsv\", sep = \"\\t\", index = False, header = False)"
   ]
  }
 ],
 "metadata": {
  "kernelspec": {
   "display_name": "Python 3 (ipykernel)",
   "language": "python",
   "name": "python3"
  },
  "language_info": {
   "codemirror_mode": {
    "name": "ipython",
    "version": 3
   },
   "file_extension": ".py",
   "mimetype": "text/x-python",
   "name": "python",
   "nbconvert_exporter": "python",
   "pygments_lexer": "ipython3",
   "version": "3.9.6"
  }
 },
 "nbformat": 4,
 "nbformat_minor": 5
}
