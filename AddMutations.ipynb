{
 "cells": [
  {
   "cell_type": "code",
   "execution_count": 1,
   "id": "74301907",
   "metadata": {},
   "outputs": [],
   "source": [
    "import pandas as pd\n",
    "import re"
   ]
  },
  {
   "cell_type": "code",
   "execution_count": 5,
   "id": "f4b9a03f",
   "metadata": {},
   "outputs": [],
   "source": [
    "def mutate_sequence(starter_seq, position, *mutations):\n",
    "    mutant_starter_seqs = []\n",
    "    mutant_starter_seq = starter_seq.copy()\n",
    "    for mutation in mutations:\n",
    "        mutant_starter_seq[position-1] = mutation\n",
    "        mutant_starter_seqs.append(mutant_starter_seq)\n",
    "    \n",
    "    return mutant_starter_seqs"
   ]
  },
  {
   "cell_type": "code",
   "execution_count": 4,
   "id": "60e3437b",
   "metadata": {},
   "outputs": [],
   "source": [
    "def add_sequence(name, mutant_seq, chain_length, starter_df):\n",
    "    new_row = {\"Fasta File\" : name, \"AMINO ACID STARTER CONDENSATION DOMAIN\" : mutant_seq, \"CHAIN LENGTH\" : chain_length}\n",
    "    starter_df = starter_df.append(new_row, ignore_index = True)\n",
    "    \n",
    "    return starter_df"
   ]
  },
  {
   "cell_type": "code",
   "execution_count": 1,
   "id": "bb794a8d",
   "metadata": {},
   "outputs": [],
   "source": [
    "def add_mutation(starter_df):\n",
    "    with open(\"mutant_Cs.txt\", \"r\") as f:\n",
    "        mutant_lines = f.readlines()\n",
    "    \n",
    "#     starter_df = pd.read_csv(\"\")\n",
    "    \n",
    "    for line in mutant_lines:\n",
    "        line_info = line.split(\",\")\n",
    "        name = line_info[0]\n",
    "        starter_seq = line_info[1]\n",
    "        position = line_info[2]\n",
    "        mutations = line_info[3].split(\":\")\n",
    "        mutated_sequences = mutate_sequence(starter_seq, position, mutations)\n",
    "        chain_standard = line_info[4].split(\":\")\n",
    "        for i in range(len(mutated_sequences)):\n",
    "            starter_df = add_sequence(name, mutated_sequences[i], chain_length[i], starter_df)"
   ]
  },
  {
   "cell_type": "code",
   "execution_count": 8,
   "id": "2316f85b",
   "metadata": {},
   "outputs": [],
   "source": [
    "# Open and Process amino_df\n",
    "amino_df = pd.read_csv(\"Chain_lengths_df.csv\")\n",
    "amino_df = amino_df.drop(amino_df.columns[0], axis=1)"
   ]
  },
  {
   "cell_type": "code",
   "execution_count": null,
   "id": "d768af78",
   "metadata": {},
   "outputs": [],
   "source": []
  }
 ],
 "metadata": {
  "kernelspec": {
   "display_name": "Python 3 (ipykernel)",
   "language": "python",
   "name": "python3"
  },
  "language_info": {
   "codemirror_mode": {
    "name": "ipython",
    "version": 3
   },
   "file_extension": ".py",
   "mimetype": "text/x-python",
   "name": "python",
   "nbconvert_exporter": "python",
   "pygments_lexer": "ipython3",
   "version": "3.9.6"
  }
 },
 "nbformat": 4,
 "nbformat_minor": 5
}
